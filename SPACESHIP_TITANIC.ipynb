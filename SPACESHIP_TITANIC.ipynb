{
  "cells": [
    {
      "cell_type": "markdown",
      "metadata": {
        "id": "view-in-github",
        "colab_type": "text"
      },
      "source": [
        "<a href=\"https://colab.research.google.com/github/VIJAYARAGUL362/SPACE-TITANIC-CHALLENGE/blob/main/SPACESHIP_TITANIC.ipynb\" target=\"_parent\"><img src=\"https://colab.research.google.com/assets/colab-badge.svg\" alt=\"Open In Colab\"/></a>"
      ]
    },
    {
      "cell_type": "markdown",
      "metadata": {
        "id": "lisy24LwiSvC"
      },
      "source": [
        "# IMPORTING THE LIBRARIES"
      ]
    },
    {
      "cell_type": "code",
      "execution_count": null,
      "metadata": {
        "id": "ypRfHlSoiWa0"
      },
      "outputs": [],
      "source": [
        "import pandas as pd\n",
        "import matplotlib.pyplot as plt"
      ]
    },
    {
      "cell_type": "markdown",
      "metadata": {
        "id": "uVhc4go9ibFO"
      },
      "source": [
        "# IMPORTING THE DATASET"
      ]
    },
    {
      "cell_type": "markdown",
      "metadata": {
        "id": "enRi4phak8qy"
      },
      "source": [
        "## GETTING THE DATA FROM KAGGLE"
      ]
    },
    {
      "cell_type": "code",
      "execution_count": null,
      "metadata": {
        "id": "tiAY59b1jH_3"
      },
      "outputs": [],
      "source": [
        "# GETTING THE KAGGLE API KEY\n",
        "from google.colab import files\n",
        "files.upload()"
      ]
    },
    {
      "cell_type": "code",
      "execution_count": null,
      "metadata": {
        "id": "FsZzkJm-jvSK"
      },
      "outputs": [],
      "source": [
        "# INSTALLING KAGGLE\n",
        "!pip install kaggle"
      ]
    },
    {
      "cell_type": "code",
      "execution_count": null,
      "metadata": {
        "id": "u0ZeJKFrjyQW"
      },
      "outputs": [],
      "source": [
        "# Create the .kaggle directory if it doesn't exist\n",
        "!mkdir -p ~/.kaggle/\n",
        "\n",
        "# Move the uploaded kaggle.json to the .kaggle directory\n",
        "!mv kaggle.json ~/.kaggle/\n",
        "\n",
        "# Set read/write permissions for the owner only (secure)\n",
        "!chmod 600 ~/.kaggle/kaggle.json"
      ]
    },
    {
      "cell_type": "code",
      "execution_count": null,
      "metadata": {
        "id": "GasFJqncj6Tq"
      },
      "outputs": [],
      "source": [
        "# DOWNLOADING THE DATASET\n",
        "!kaggle competitions download -c spaceship-titanic"
      ]
    },
    {
      "cell_type": "code",
      "execution_count": null,
      "metadata": {
        "id": "oQrnQqTRkQyi"
      },
      "outputs": [],
      "source": [
        "import os\n",
        "import zipfile\n",
        "\n",
        "# Replace 'your_dataset_name.zip' with the actual name of your downloaded zip file\n",
        "zip_file_name = 'spaceship-titanic.zip' # Example for the Titanic dataset\n",
        "\n",
        "if os.path.exists(zip_file_name):\n",
        "    with zipfile.ZipFile(zip_file_name, 'r') as zip_ref:\n",
        "        zip_ref.extractall('.') # Extracts all contents to the current directory\n",
        "    print(f\"'{zip_file_name}' unzipped successfully.\")\n",
        "else:\n",
        "    print(f\"Error: '{zip_file_name}' not found. Check the filename.\")\n",
        "\n",
        "# Optional: List files again to see the unzipped contents\n",
        "!ls"
      ]
    },
    {
      "cell_type": "markdown",
      "metadata": {
        "id": "nKyKytZMkpy7"
      },
      "source": [
        "## LOADING THE DATASET"
      ]
    },
    {
      "cell_type": "code",
      "execution_count": null,
      "metadata": {
        "id": "kzI6XPzLlDgg"
      },
      "outputs": [],
      "source": [
        "train_dataset = pd.read_csv('train.csv')\n",
        "train_dataframe = pd.DataFrame(train_dataset)"
      ]
    },
    {
      "cell_type": "code",
      "execution_count": null,
      "metadata": {
        "id": "vTnjh7KzlQBg"
      },
      "outputs": [],
      "source": [
        "train_dataframe"
      ]
    },
    {
      "cell_type": "code",
      "execution_count": null,
      "metadata": {
        "id": "5qRjOgpUlR31"
      },
      "outputs": [],
      "source": [
        "train_dataframe.info()"
      ]
    },
    {
      "cell_type": "code",
      "execution_count": null,
      "metadata": {
        "id": "1TOt4xiElgA2"
      },
      "outputs": [],
      "source": [
        "# SEGREGATING THE DATASET\n",
        "categorical_feature = train_dataframe.select_dtypes('object')\n",
        "numerical_feature = train_dataframe.select_dtypes('float')\n",
        "target_feature = train_dataframe.select_dtypes('bool')"
      ]
    },
    {
      "cell_type": "code",
      "execution_count": null,
      "metadata": {
        "id": "ioU1kc_Xl9v2"
      },
      "outputs": [],
      "source": [
        "categorical_feature.drop(columns=[\"PassengerId\",\"Name\"],inplace=True,axis=1)"
      ]
    },
    {
      "cell_type": "code",
      "execution_count": null,
      "metadata": {
        "id": "jY9FSC6Sr8QR"
      },
      "outputs": [],
      "source": [
        "categorical_feature"
      ]
    },
    {
      "cell_type": "code",
      "execution_count": null,
      "metadata": {
        "id": "Dmnqi3kWmC8A"
      },
      "outputs": [],
      "source": [
        "numerical_feature"
      ]
    },
    {
      "cell_type": "markdown",
      "metadata": {
        "id": "3C8_UR8zmF3q"
      },
      "source": [
        "# DATA PROCESSING"
      ]
    },
    {
      "cell_type": "markdown",
      "metadata": {
        "id": "cTTw33SSvakT"
      },
      "source": [
        "## CATEGORICAL VARIABLE"
      ]
    },
    {
      "cell_type": "code",
      "execution_count": null,
      "metadata": {
        "id": "rZUeiseJmw6f"
      },
      "outputs": [],
      "source": [
        "# MISSING VALUES\n",
        "categorical_feature['HomePlanet'].fillna('Earth',inplace=True)"
      ]
    },
    {
      "cell_type": "code",
      "execution_count": null,
      "metadata": {
        "id": "9ayWalWnm1sG"
      },
      "outputs": [],
      "source": [
        "# MISSING VALUES\n",
        "categorical_feature['CryoSleep'].fillna(False,inplace=True)"
      ]
    },
    {
      "cell_type": "code",
      "execution_count": null,
      "metadata": {
        "id": "bHSvtGmR0RJn"
      },
      "outputs": [],
      "source": [
        "# MISSING VALUES\n",
        "categorical_feature['Cabin'].fillna(\"G\",inplace=True)"
      ]
    },
    {
      "cell_type": "code",
      "execution_count": null,
      "metadata": {
        "id": "DTNstp0jz9Td"
      },
      "outputs": [],
      "source": [
        "# DATA MANIPULATION\n",
        "categorical_feature['Cabin'] = categorical_feature['Cabin'].apply(lambda x: x[0])"
      ]
    },
    {
      "cell_type": "code",
      "execution_count": null,
      "metadata": {
        "id": "I2MdHPlSyJUh"
      },
      "outputs": [],
      "source": [
        "index_id_cabin,unique_values_cabin = categorical_feature['Cabin'].factorize()"
      ]
    },
    {
      "cell_type": "code",
      "execution_count": null,
      "metadata": {
        "id": "OyudCIh6zSLY"
      },
      "outputs": [],
      "source": [
        "index_id_cabin,unique_values_cabin"
      ]
    },
    {
      "cell_type": "code",
      "execution_count": null,
      "metadata": {
        "id": "u8AXUL9Wz1bL"
      },
      "outputs": [],
      "source": [
        "categorical_feature['Cabin'] = index_id_cabin"
      ]
    },
    {
      "cell_type": "code",
      "execution_count": null,
      "metadata": {
        "id": "4ieMLud52fi1"
      },
      "outputs": [],
      "source": [
        "# MISSING VALUES\n",
        "categorical_feature['Destination'].fillna(\"T\",inplace=True)"
      ]
    },
    {
      "cell_type": "code",
      "execution_count": null,
      "metadata": {
        "id": "OYikxnHK2pX_"
      },
      "outputs": [],
      "source": [
        "categorical_feature['Destination'].unique()"
      ]
    },
    {
      "cell_type": "code",
      "execution_count": null,
      "metadata": {
        "id": "J-MX8LWi2-u6"
      },
      "outputs": [],
      "source": [
        "# DATA MANIPULATION\n",
        "index_id_dest,unique_values_dest = categorical_feature['Destination'].factorize()"
      ]
    },
    {
      "cell_type": "code",
      "execution_count": null,
      "metadata": {
        "id": "y6PRJQ383W5Z"
      },
      "outputs": [],
      "source": [
        "categorical_feature['Destination'] = index_id_dest"
      ]
    },
    {
      "cell_type": "code",
      "execution_count": null,
      "metadata": {
        "id": "Myn7uqSp3q5X"
      },
      "outputs": [],
      "source": [
        "# MISSING VALUES\n",
        "categorical_feature['VIP'].fillna(False,inplace = True)"
      ]
    },
    {
      "cell_type": "code",
      "execution_count": null,
      "metadata": {
        "id": "0bGEnZw64U0e"
      },
      "outputs": [],
      "source": [
        "categorical_feature.isna().sum()"
      ]
    },
    {
      "cell_type": "markdown",
      "metadata": {
        "id": "19ttoKVa4rhK"
      },
      "source": [
        "### ONE HOT ENCODING THE CATEGORICAL DATASET"
      ]
    },
    {
      "cell_type": "code",
      "execution_count": null,
      "metadata": {
        "id": "8bEbFTTb5Cd2"
      },
      "outputs": [],
      "source": [
        "from sklearn.preprocessing import OneHotEncoder\n",
        "from sklearn.compose import ColumnTransformer\n",
        "ct = ColumnTransformer(transformers=[('encoder',OneHotEncoder(drop=\"first\"),['HomePlanet','CryoSleep','Cabin','Destination','VIP'])],remainder=\"passthrough\")"
      ]
    },
    {
      "cell_type": "code",
      "execution_count": null,
      "metadata": {
        "id": "WhR3-5dt54a1"
      },
      "outputs": [],
      "source": [
        "encoded_cat = ct.fit_transform(categorical_feature)"
      ]
    },
    {
      "cell_type": "code",
      "execution_count": null,
      "metadata": {
        "id": "mpLjjgVW6Dpt"
      },
      "outputs": [],
      "source": [
        "encoded_cat"
      ]
    },
    {
      "cell_type": "markdown",
      "metadata": {
        "id": "aiFAT4V7-gbA"
      },
      "source": [
        "### CREATING A NEW CATEGORICAL DATAFRAME"
      ]
    },
    {
      "cell_type": "code",
      "execution_count": null,
      "metadata": {
        "id": "kOqTXXif-kij"
      },
      "outputs": [],
      "source": [
        "cat_column_names = list(ct.get_feature_names_out())"
      ]
    },
    {
      "cell_type": "code",
      "execution_count": null,
      "metadata": {
        "id": "BU07g-Sb_iuG"
      },
      "outputs": [],
      "source": [
        "new_cat_dataframe = pd.DataFrame(encoded_cat.toarray(),columns=cat_column_names)"
      ]
    },
    {
      "cell_type": "code",
      "execution_count": null,
      "metadata": {
        "id": "3TtqMoe3_4ML"
      },
      "outputs": [],
      "source": [
        "new_cat_dataframe"
      ]
    },
    {
      "cell_type": "markdown",
      "metadata": {
        "id": "FTxwMza66jxn"
      },
      "source": [
        "## NUMERICAL VARIABLE"
      ]
    },
    {
      "cell_type": "code",
      "execution_count": null,
      "metadata": {
        "id": "NOxNf4Zk60nu"
      },
      "outputs": [],
      "source": [
        "numerical_feature"
      ]
    },
    {
      "cell_type": "code",
      "execution_count": null,
      "metadata": {
        "id": "PHJko5cT7PYf"
      },
      "outputs": [],
      "source": [
        "# DATAFRAME INFO\n",
        "numerical_feature.info()"
      ]
    },
    {
      "cell_type": "code",
      "execution_count": null,
      "metadata": {
        "id": "yr0FPgea7aPi"
      },
      "outputs": [],
      "source": [
        "numerical_feature.isna().sum()"
      ]
    },
    {
      "cell_type": "code",
      "execution_count": null,
      "metadata": {
        "id": "gXmR9dus79Ez"
      },
      "outputs": [],
      "source": [
        "# MISSING VALUES\n",
        "numerical_feature.fillna(numerical_feature['Age'].mean(),inplace=True)"
      ]
    },
    {
      "cell_type": "code",
      "execution_count": null,
      "metadata": {
        "id": "vzy9cAYp8cJy"
      },
      "outputs": [],
      "source": [
        "# MISSING VALUES\n",
        "numerical_feature['RoomService'].fillna(numerical_feature['RoomService'].mean(),inplace=True)"
      ]
    },
    {
      "cell_type": "code",
      "execution_count": null,
      "metadata": {
        "id": "gaIKBt2V8wQU"
      },
      "outputs": [],
      "source": [
        "# MISSING VALUES\n",
        "numerical_feature['ShoppingMall'].fillna(numerical_feature['ShoppingMall'].mean(),inplace=True)"
      ]
    },
    {
      "cell_type": "code",
      "execution_count": null,
      "metadata": {
        "id": "dAo6oeN39t0a"
      },
      "outputs": [],
      "source": [
        "# MISSING VALUES\n",
        "numerical_feature['Spa'].fillna(numerical_feature['Spa'].mean(),inplace=True)"
      ]
    },
    {
      "cell_type": "code",
      "execution_count": null,
      "metadata": {
        "id": "MZhtO8u892Uz"
      },
      "outputs": [],
      "source": [
        "# MISSING VALUES\n",
        "numerical_feature['VRDeck'].fillna(numerical_feature['VRDeck'].mean(),inplace=True)"
      ]
    },
    {
      "cell_type": "code",
      "execution_count": null,
      "metadata": {
        "id": "pglxxHny-BKP"
      },
      "outputs": [],
      "source": [
        "numerical_feature"
      ]
    },
    {
      "cell_type": "code",
      "execution_count": null,
      "metadata": {
        "id": "Zr6JSGe3-QLv"
      },
      "outputs": [],
      "source": [
        "numerical_feature.isna().sum()"
      ]
    },
    {
      "cell_type": "markdown",
      "metadata": {
        "id": "NSAnc1TE-TR1"
      },
      "source": [
        "### SCALING THE NUMERICAL VARIABLE"
      ]
    },
    {
      "cell_type": "code",
      "execution_count": null,
      "metadata": {
        "id": "nBNe42_DADsL"
      },
      "outputs": [],
      "source": [
        "from sklearn.preprocessing import StandardScaler\n",
        "sc = StandardScaler()"
      ]
    },
    {
      "cell_type": "code",
      "execution_count": null,
      "metadata": {
        "id": "lirHqZxxAVBQ"
      },
      "outputs": [],
      "source": [
        "scaled_num = sc.fit_transform(numerical_feature)"
      ]
    },
    {
      "cell_type": "markdown",
      "metadata": {
        "id": "32hjShPNBJXR"
      },
      "source": [
        "### CREATING A NEW NUMERICAL DATAFRAME"
      ]
    },
    {
      "cell_type": "code",
      "execution_count": null,
      "metadata": {
        "id": "rzqJk2a1AlXS"
      },
      "outputs": [],
      "source": [
        "num_column_names = sc.get_feature_names_out()\n",
        "num_column_names"
      ]
    },
    {
      "cell_type": "code",
      "execution_count": null,
      "metadata": {
        "id": "PsW49gRVAsr1"
      },
      "outputs": [],
      "source": [
        "new_num_dataframe = pd.DataFrame(scaled_num,columns=num_column_names)"
      ]
    },
    {
      "cell_type": "code",
      "execution_count": null,
      "metadata": {
        "id": "DSs1OsBaA-EY"
      },
      "outputs": [],
      "source": [
        "new_num_dataframe"
      ]
    },
    {
      "cell_type": "markdown",
      "metadata": {
        "id": "s22qBXjBA_Oq"
      },
      "source": [
        "# CREATING A TRAINING DATAFRAME"
      ]
    },
    {
      "cell_type": "code",
      "execution_count": null,
      "metadata": {
        "id": "fBPgn0VIBSoI"
      },
      "outputs": [],
      "source": [
        "training_dataframe = pd.concat([new_cat_dataframe,new_num_dataframe],axis=1)"
      ]
    },
    {
      "cell_type": "code",
      "execution_count": null,
      "metadata": {
        "id": "O50NstXyBdv4"
      },
      "outputs": [],
      "source": [
        "training_dataframe"
      ]
    },
    {
      "cell_type": "markdown",
      "metadata": {
        "id": "n3YJwkTusez5"
      },
      "source": [
        "# TARGET VARIABLE"
      ]
    },
    {
      "cell_type": "code",
      "execution_count": null,
      "metadata": {
        "id": "zkI6VVYfr-f5"
      },
      "outputs": [],
      "source": [
        "index_target,unique_values_target = target_feature['Transported'].factorize()"
      ]
    },
    {
      "cell_type": "code",
      "execution_count": null,
      "metadata": {
        "id": "1MUa8u28sVBW"
      },
      "outputs": [],
      "source": [
        "index_target,unique_values_target"
      ]
    },
    {
      "cell_type": "code",
      "execution_count": null,
      "metadata": {
        "id": "tEVpOx_xsYj2"
      },
      "outputs": [],
      "source": [
        "target_feature['Transported'] = index_target"
      ]
    },
    {
      "cell_type": "code",
      "execution_count": null,
      "metadata": {
        "id": "ls6L5-w2Od0D"
      },
      "outputs": [],
      "source": [
        "target_feature"
      ]
    },
    {
      "cell_type": "markdown",
      "metadata": {
        "id": "1VVf4Tibs8_j"
      },
      "source": [
        "# SPLITTING THE DATASET"
      ]
    },
    {
      "cell_type": "code",
      "execution_count": null,
      "metadata": {
        "id": "cAmyx6SitCQ8"
      },
      "outputs": [],
      "source": [
        "from sklearn.model_selection import train_test_split\n",
        "X_train,X_test,y_train,y_test = train_test_split(training_dataframe,target_feature,test_size=0.2)"
      ]
    },
    {
      "cell_type": "code",
      "execution_count": null,
      "metadata": {
        "id": "ySGa9rzNQzjI"
      },
      "outputs": [],
      "source": [
        "X_train.shape,X_test.shape"
      ]
    },
    {
      "cell_type": "code",
      "execution_count": null,
      "metadata": {
        "id": "nMdbEG9wQ29P"
      },
      "outputs": [],
      "source": [
        "y_train.shape,y_test.shape"
      ]
    },
    {
      "cell_type": "markdown",
      "metadata": {
        "id": "0ob1IkRoBfDc"
      },
      "source": [
        "# CREATING THE MODEL"
      ]
    },
    {
      "cell_type": "code",
      "execution_count": null,
      "metadata": {
        "id": "9VOwKqz8st24"
      },
      "outputs": [],
      "source": [
        "from sklearn.svm import SVC\n",
        "svc = SVC(kernel=\"rbf\")"
      ]
    },
    {
      "cell_type": "code",
      "execution_count": null,
      "metadata": {
        "id": "iNtL6kLfueWe"
      },
      "outputs": [],
      "source": [
        "from sklearn.ensemble import RandomForestClassifier\n",
        "rfc = RandomForestClassifier(n_estimators=300)"
      ]
    },
    {
      "cell_type": "code",
      "execution_count": null,
      "metadata": {
        "id": "2qyAmn_7vSYI"
      },
      "outputs": [],
      "source": [
        "from sklearn.linear_model import LogisticRegression\n",
        "lr = LogisticRegression()"
      ]
    },
    {
      "cell_type": "code",
      "execution_count": null,
      "metadata": {
        "id": "aYLFdP7zwFAP"
      },
      "outputs": [],
      "source": [
        "from sklearn.tree import DecisionTreeClassifier\n",
        "dtc = DecisionTreeClassifier()"
      ]
    },
    {
      "cell_type": "markdown",
      "metadata": {
        "id": "1PrAd4xTYT_h"
      },
      "source": [
        "# TUNING THE MODEL"
      ]
    },
    {
      "cell_type": "code",
      "execution_count": null,
      "metadata": {
        "id": "KK5XDlOhYajB"
      },
      "outputs": [],
      "source": [
        "from sklearn.model_selection import GridSearchCV"
      ]
    },
    {
      "cell_type": "code",
      "execution_count": null,
      "metadata": {
        "id": "jVs1GKK4YoIn"
      },
      "outputs": [],
      "source": [
        "# RANDOM FOREST\n",
        "param_grid = {\n",
        "    'n_estimators': [100, 200],  # Number of trees\n",
        "    'max_depth': [10, 20, None],  # Maximum depth of trees\n",
        "    'min_samples_split': [2, 5],  # Minimum samples to split a node\n",
        "    'min_samples_leaf': [1, 2],   # Minimum samples at a leaf\n",
        "    'max_features': ['sqrt', 'log2']  # Number of features to consider at each split\n",
        "}\n",
        "\n",
        "tuned_rfc = GridSearchCV(\n",
        "    estimator=rfc,\n",
        "    param_grid=param_grid,\n",
        "    cv=5,  # 5-fold cross-validation\n",
        "    scoring='f1_macro',  # Optimize for F1-score (macro average)\n",
        "    n_jobs=-1,  # Use all available CPU cores\n",
        "    verbose=1\n",
        ")"
      ]
    },
    {
      "cell_type": "markdown",
      "metadata": {
        "id": "zH24f9PDtl4s"
      },
      "source": [
        "# TRAINING THE MODEL"
      ]
    },
    {
      "cell_type": "code",
      "execution_count": null,
      "metadata": {
        "id": "ZZEPcf2wtn00"
      },
      "outputs": [],
      "source": [
        "svc.fit(X_train,y_train)"
      ]
    },
    {
      "cell_type": "code",
      "execution_count": null,
      "metadata": {
        "id": "FIyfB9lzusRy"
      },
      "outputs": [],
      "source": [
        "rfc.fit(X_train,y_train)"
      ]
    },
    {
      "cell_type": "code",
      "execution_count": null,
      "metadata": {
        "id": "JRH8GDvpvcv7"
      },
      "outputs": [],
      "source": [
        "lr.fit(X_train,y_train)"
      ]
    },
    {
      "cell_type": "code",
      "execution_count": null,
      "metadata": {
        "id": "b6C7pBqUwNNK"
      },
      "outputs": [],
      "source": [
        "dtc.fit(X_train,y_train)"
      ]
    },
    {
      "cell_type": "code",
      "execution_count": null,
      "metadata": {
        "id": "-AH0PBLcYvoY"
      },
      "outputs": [],
      "source": [
        "# tuned_rfc.fit(X_train,y_train)"
      ]
    },
    {
      "cell_type": "markdown",
      "metadata": {
        "id": "MgQggVbmszex"
      },
      "source": [
        "# EVALUATING THE MODEL"
      ]
    },
    {
      "cell_type": "code",
      "execution_count": null,
      "metadata": {
        "id": "8Zt9Xx8Kti3f"
      },
      "outputs": [],
      "source": [
        "from sklearn.metrics import classification_report"
      ]
    },
    {
      "cell_type": "code",
      "execution_count": null,
      "metadata": {
        "id": "CmKgyHyLtyOd"
      },
      "outputs": [],
      "source": [
        "y_pred_svc = svc.predict(X_test)\n",
        "score_svc = classification_report(y_test,y_pred_svc)\n",
        "score_svc"
      ]
    },
    {
      "cell_type": "code",
      "execution_count": null,
      "metadata": {
        "id": "uzGDYqBiuQOm"
      },
      "outputs": [],
      "source": [
        "y_pred_rfc = rfc.predict(X_test)\n",
        "score_rfc = classification_report(y_test,y_pred_rfc)\n",
        "score_rfc"
      ]
    },
    {
      "cell_type": "code",
      "execution_count": null,
      "metadata": {
        "id": "yhyEKGcLu2UB"
      },
      "outputs": [],
      "source": [
        "y_pred_lr = lr.predict(X_test)\n",
        "score_lr = classification_report(y_test,y_pred_lr)\n",
        "score_lr"
      ]
    },
    {
      "cell_type": "code",
      "execution_count": null,
      "metadata": {
        "id": "EME50_mVvy_3"
      },
      "outputs": [],
      "source": [
        "y_pred_dtc = dtc.predict(X_test)\n",
        "score_dtc = classification_report(y_test,y_pred_dtc)\n",
        "score_dtc"
      ]
    },
    {
      "cell_type": "code",
      "execution_count": null,
      "metadata": {
        "id": "Ak4ESlT8ZDJM"
      },
      "outputs": [],
      "source": [
        "# y_pred_trfc = tuned_rfc.predict(X_test)\n",
        "# score_t_rfc = classification_report(y_test,y_pred_dtc)\n",
        "# score_t_rfc"
      ]
    },
    {
      "cell_type": "markdown",
      "metadata": {
        "id": "-76_IQ0ewaRx"
      },
      "source": [
        "# DEEP LEARNING"
      ]
    },
    {
      "cell_type": "markdown",
      "metadata": {
        "id": "01syr9j1wxdW"
      },
      "source": [
        "## IMPORTING LIBRARIES"
      ]
    },
    {
      "cell_type": "code",
      "execution_count": null,
      "metadata": {
        "id": "imBe_dIxwpKI"
      },
      "outputs": [],
      "source": [
        "import torch\n",
        "from torch import nn"
      ]
    },
    {
      "cell_type": "markdown",
      "metadata": {
        "id": "cVcQtnAMz8Dm"
      },
      "source": [
        "## DEVICE AGNOSTIC CODE"
      ]
    },
    {
      "cell_type": "code",
      "execution_count": null,
      "metadata": {
        "id": "vR8Ycjs70BMP"
      },
      "outputs": [],
      "source": [
        "if torch.cuda.is_available():\n",
        "    device = \"cuda\"\n",
        "else:\n",
        "    device = \"cpu\""
      ]
    },
    {
      "cell_type": "code",
      "execution_count": null,
      "metadata": {
        "id": "BjohtmVg0a0z"
      },
      "outputs": [],
      "source": [
        "device"
      ]
    },
    {
      "cell_type": "markdown",
      "metadata": {
        "id": "YcWhrXHDwudX"
      },
      "source": [
        "## MODEL ARCHIETECTURE"
      ]
    },
    {
      "cell_type": "code",
      "execution_count": null,
      "metadata": {
        "id": "65Ub31kcwuu5"
      },
      "outputs": [],
      "source": [
        "class classification_model(nn.Module):\n",
        "    def __init__(self) -> None:\n",
        "        super().__init__()\n",
        "\n",
        "        self.layers = nn.Sequential(\n",
        "            nn.Linear(in_features=20,out_features=32),\n",
        "            nn.BatchNorm1d(32),\n",
        "            nn.ReLU(),\n",
        "            nn.Dropout(),\n",
        "            nn.Linear(in_features=32,out_features=64),\n",
        "            nn.BatchNorm1d(64),\n",
        "            nn.ReLU(),\n",
        "            nn.Dropout(),\n",
        "            nn.Linear(in_features=64,out_features=1)\n",
        "        )\n",
        "\n",
        "    def forward(self,x):\n",
        "        return self.layers(x)"
      ]
    },
    {
      "cell_type": "code",
      "execution_count": null,
      "metadata": {
        "id": "vhHol2yuyvTt"
      },
      "outputs": [],
      "source": [
        "model = classification_model()"
      ]
    },
    {
      "cell_type": "markdown",
      "metadata": {
        "id": "O9TvLuZkyUNX"
      },
      "source": [
        "## OPTIMIZER AND COST FUNCTION"
      ]
    },
    {
      "cell_type": "code",
      "execution_count": null,
      "metadata": {
        "id": "DID7pvovydo_"
      },
      "outputs": [],
      "source": [
        "loss = nn.BCEWithLogitsLoss()\n",
        "\n",
        "optimizer = torch.optim.Adam(model.parameters(), lr=0.1)"
      ]
    },
    {
      "cell_type": "markdown",
      "metadata": {
        "id": "87oo6KoCzjoJ"
      },
      "source": [
        "## MOVING TO DATSET TO THE TENSORS"
      ]
    },
    {
      "cell_type": "code",
      "execution_count": null,
      "metadata": {
        "id": "XbBxtqcszzGo"
      },
      "outputs": [],
      "source": [
        "X_train = torch.tensor(X_train.values,dtype=torch.float).to(device)\n",
        "X_test = torch.tensor(X_test.values,dtype=torch.float).to(device)\n",
        "y_train = torch.tensor(y_train.values,dtype=torch.float).to(device)\n",
        "y_test = torch.tensor(y_test.values,dtype=torch.float).to(device)"
      ]
    },
    {
      "cell_type": "code",
      "execution_count": null,
      "metadata": {
        "id": "H2In8BY3Ql_9"
      },
      "outputs": [],
      "source": [
        "X_train.shape,X_test.shape"
      ]
    },
    {
      "cell_type": "markdown",
      "metadata": {
        "id": "IeqPTfmm0rr-"
      },
      "source": [
        "## TRAINING THE MODEL"
      ]
    },
    {
      "cell_type": "code",
      "execution_count": null,
      "metadata": {
        "id": "MGSbzogbNyyj"
      },
      "outputs": [],
      "source": [
        "epochs = 300\n",
        "\n",
        "training_loss = []\n",
        "testing_loss = []\n",
        "epoch_list = []\n",
        "\n",
        "for epoch in range(epochs):\n",
        "\n",
        "    # TRAINING THE MODE\n",
        "    model.train()\n",
        "\n",
        "    # FORWARD PROPAGATION\n",
        "    y_train_pred = model(X_train)\n",
        "    train_loss = loss(y_train_pred,y_train)\n",
        "\n",
        "    # OPTIMIZER ZERO GRAD\n",
        "    optimizer.zero_grad()\n",
        "\n",
        "    # BACK PROPOGATION\n",
        "    train_loss.backward()\n",
        "\n",
        "    # GRADIENT DESCENT\n",
        "    optimizer.step()\n",
        "\n",
        "    # EVALUATING THE MODEL\n",
        "    model.eval()\n",
        "    with torch.inference_mode():\n",
        "        y_test_pred = model(X_test)\n",
        "        test_loss = loss(y_test_pred,y_test)\n",
        "\n",
        "        if epoch%100 == 0:\n",
        "            training_loss.append(train_loss)\n",
        "            testing_loss.append(test_loss)\n",
        "            print(f\"Epoch is {epoch}:The training loss is {train_loss} and the test loss is {test_loss}\")"
      ]
    },
    {
      "cell_type": "code",
      "execution_count": null,
      "metadata": {
        "id": "xr_lzpCbQhep"
      },
      "outputs": [],
      "source": [
        "# MODEL PREDICTION\n",
        "with torch.inference_mode():\n",
        "    y_pred_logits = model(X_test)\n",
        "    sigmoid = nn.Sigmoid()\n",
        "    y_pred_nn = torch.round(sigmoid(y_pred_logits))"
      ]
    },
    {
      "cell_type": "code",
      "execution_count": null,
      "metadata": {
        "id": "7F1_23r9Uyx0"
      },
      "outputs": [],
      "source": [
        "y_pred_nn"
      ]
    },
    {
      "cell_type": "code",
      "execution_count": null,
      "metadata": {
        "id": "qwaNY3-pU0NR"
      },
      "outputs": [],
      "source": [
        "score_nn = classification_report(y_test,y_pred_nn)"
      ]
    },
    {
      "cell_type": "code",
      "execution_count": null,
      "metadata": {
        "id": "0zPBZhyJVqLL"
      },
      "outputs": [],
      "source": [
        "score_nn"
      ]
    },
    {
      "cell_type": "markdown",
      "metadata": {
        "id": "DyNp_vm5VrH9"
      },
      "source": [
        "# TEST DATASET"
      ]
    },
    {
      "cell_type": "markdown",
      "metadata": {
        "id": "Q2AVo_jof3Ck"
      },
      "source": [
        "## IMPORTING THE DATASET"
      ]
    },
    {
      "cell_type": "code",
      "execution_count": null,
      "metadata": {
        "id": "2-KcucQIf60k"
      },
      "outputs": [],
      "source": [
        "test_dataset = pd.read_csv('test.csv')\n",
        "test_dataframe = pd.DataFrame(test_dataset)"
      ]
    },
    {
      "cell_type": "code",
      "execution_count": null,
      "metadata": {
        "id": "Ph6hI9MpgFih"
      },
      "outputs": [],
      "source": [
        "test_dataframe"
      ]
    },
    {
      "cell_type": "code",
      "execution_count": null,
      "metadata": {
        "id": "O7dCTN-ngT9B"
      },
      "outputs": [],
      "source": [
        "test_dataframe.info()"
      ]
    },
    {
      "cell_type": "code",
      "execution_count": null,
      "metadata": {
        "id": "bgV4lVa9gHHu"
      },
      "outputs": [],
      "source": [
        "# SEGREGATING THE DATASET\n",
        "categorical_feature_test = test_dataframe.select_dtypes('object')\n",
        "numerical_feature_test = test_dataframe.select_dtypes('float')"
      ]
    },
    {
      "cell_type": "markdown",
      "metadata": {
        "id": "DpVKKksbgel-"
      },
      "source": [
        "## DATA PRE PROCESSING"
      ]
    },
    {
      "cell_type": "markdown",
      "metadata": {
        "id": "XJce21Wggkw1"
      },
      "source": [
        "### CATEGORICAL FEATURE"
      ]
    },
    {
      "cell_type": "code",
      "execution_count": null,
      "metadata": {
        "id": "_oN26r3qg9zI"
      },
      "outputs": [],
      "source": [
        "# MISSING VALUES\n",
        "categorical_feature_test['Cabin'].fillna(\"G\",inplace=True)\n",
        "categorical_feature_test['HomePlanet'].fillna('Earth',inplace=True)\n",
        "categorical_feature_test['CryoSleep'].fillna(False,inplace=True)\n",
        "categorical_feature_test['Cabin'] = categorical_feature_test['Cabin'].apply(lambda x: x[0])"
      ]
    },
    {
      "cell_type": "code",
      "source": [
        "categorical_feature_test['VIP'].fillna(False,inplace = True)"
      ],
      "metadata": {
        "id": "KB11nf4vEcKE"
      },
      "execution_count": null,
      "outputs": []
    },
    {
      "cell_type": "code",
      "source": [
        "unique_values_cabin"
      ],
      "metadata": {
        "id": "4zVkdTQFDRJ_"
      },
      "execution_count": null,
      "outputs": []
    },
    {
      "cell_type": "code",
      "source": [
        "unique_values_dest"
      ],
      "metadata": {
        "id": "5lo5nsd0DVDC"
      },
      "execution_count": null,
      "outputs": []
    },
    {
      "cell_type": "code",
      "execution_count": null,
      "metadata": {
        "id": "RYTFXHV7vNBZ"
      },
      "outputs": [],
      "source": [
        "categorical_feature_test['Destination'] = categorical_feature_test['Destination'].fillna(\"TRAPPIST-1e\")"
      ]
    },
    {
      "cell_type": "code",
      "source": [
        "categorical_feature_test"
      ],
      "metadata": {
        "id": "JJA6JqdrDatn"
      },
      "execution_count": null,
      "outputs": []
    },
    {
      "cell_type": "code",
      "source": [
        "test_passenger_id = pd.DataFrame(categorical_feature_test['PassengerId'],columns=[\"PassengerId\"])\n",
        "categorical_feature_test.drop([\"PassengerId\",\"Name\"],inplace=True,axis=1)"
      ],
      "metadata": {
        "id": "BaUOvirrDhPv"
      },
      "execution_count": null,
      "outputs": []
    },
    {
      "cell_type": "code",
      "source": [
        "categorical_feature_test['Cabin'] = categorical_feature_test['Cabin'].apply(lambda x: list(unique_values_cabin).index(x))"
      ],
      "metadata": {
        "id": "RWZuykB3DdpB"
      },
      "execution_count": null,
      "outputs": []
    },
    {
      "cell_type": "code",
      "source": [
        "categorical_feature_test['Destination'] = categorical_feature_test['Destination'].apply(lambda x: list(unique_values_dest).index(x))"
      ],
      "metadata": {
        "id": "cnZ7mZpVELTB"
      },
      "execution_count": null,
      "outputs": []
    },
    {
      "cell_type": "code",
      "source": [
        "categorical_feature_test"
      ],
      "metadata": {
        "id": "jK5JeDJdEUUR"
      },
      "execution_count": null,
      "outputs": []
    },
    {
      "cell_type": "code",
      "source": [
        "## SCALING THE DATASET\n",
        "enc_test_cat_dataset_sparse = ct.transform(categorical_feature_test)"
      ],
      "metadata": {
        "id": "pVBRiv4sEWYv"
      },
      "execution_count": null,
      "outputs": []
    },
    {
      "cell_type": "code",
      "source": [
        "enc_cat_test = pd.DataFrame(enc_test_cat_dataset_sparse.toarray(),columns=ct.get_feature_names_out())"
      ],
      "metadata": {
        "id": "3XPHSXOwE09I"
      },
      "execution_count": null,
      "outputs": []
    },
    {
      "cell_type": "code",
      "source": [
        "enc_cat_test"
      ],
      "metadata": {
        "id": "1MNUv3_5FEc2"
      },
      "execution_count": null,
      "outputs": []
    },
    {
      "cell_type": "markdown",
      "source": [
        "### NUMERICAL DATASET"
      ],
      "metadata": {
        "id": "y5sWIyXnFLJL"
      }
    },
    {
      "cell_type": "code",
      "source": [
        "numerical_feature_test"
      ],
      "metadata": {
        "id": "i32wvkA0FTFr"
      },
      "execution_count": null,
      "outputs": []
    },
    {
      "cell_type": "code",
      "source": [
        "numerical_feature_test.info()"
      ],
      "metadata": {
        "id": "D1DLTNZCF9kN"
      },
      "execution_count": null,
      "outputs": []
    },
    {
      "cell_type": "code",
      "source": [
        "numerical_feature_test.isna().sum()"
      ],
      "metadata": {
        "id": "eamPNrUPGH3Z"
      },
      "execution_count": null,
      "outputs": []
    },
    {
      "cell_type": "code",
      "source": [
        "# MISSING VALUES\n",
        "numerical_feature_test.fillna(numerical_feature_test['Age'].mean(),inplace=True)\n",
        "numerical_feature_test['RoomService'].fillna(numerical_feature_test['RoomService'].mean(),inplace=True)\n",
        "numerical_feature_test['ShoppingMall'].fillna(numerical_feature_test['ShoppingMall'].mean(),inplace=True)\n",
        "numerical_feature_test['Spa'].fillna(numerical_feature_test['Spa'].mean(),inplace=True)\n",
        "numerical_feature_test['VRDeck'].fillna(numerical_feature_test['VRDeck'].mean(),inplace=True)"
      ],
      "metadata": {
        "id": "k7kBTiPxGPwE"
      },
      "execution_count": null,
      "outputs": []
    },
    {
      "cell_type": "code",
      "source": [
        "numerical_feature_test"
      ],
      "metadata": {
        "id": "ubBJdYQbGskl"
      },
      "execution_count": null,
      "outputs": []
    },
    {
      "cell_type": "code",
      "source": [
        "scaled_test_num_array = sc.transform(numerical_feature_test)"
      ],
      "metadata": {
        "id": "MbgEdnZ1Gv_1"
      },
      "execution_count": null,
      "outputs": []
    },
    {
      "cell_type": "code",
      "source": [
        "scaled_test_num = pd.DataFrame(scaled_test_num_array,columns=sc.get_feature_names_out())"
      ],
      "metadata": {
        "id": "Syely3znHHrY"
      },
      "execution_count": null,
      "outputs": []
    },
    {
      "cell_type": "code",
      "source": [
        "scaled_test_num"
      ],
      "metadata": {
        "id": "0L1zzQaOHo69"
      },
      "execution_count": null,
      "outputs": []
    },
    {
      "cell_type": "markdown",
      "source": [
        "### COMBINING THE BOTH THE FEATURES"
      ],
      "metadata": {
        "id": "UGwXo4YUHw9i"
      }
    },
    {
      "cell_type": "code",
      "source": [
        "new_test_dataset = pd.concat([enc_cat_test,scaled_test_num],axis=1)"
      ],
      "metadata": {
        "id": "shjFoloTH5bw"
      },
      "execution_count": null,
      "outputs": []
    },
    {
      "cell_type": "code",
      "source": [
        "new_test_dataset"
      ],
      "metadata": {
        "id": "glfddbVfIMOQ"
      },
      "execution_count": null,
      "outputs": []
    },
    {
      "cell_type": "markdown",
      "source": [
        "## INFERENCE ON THE TEST DATASET"
      ],
      "metadata": {
        "id": "lVTcN-78IPAk"
      }
    },
    {
      "cell_type": "code",
      "source": [
        "# MODEL PREDICTION\n",
        "tensor_test_dataset = torch.tensor(new_test_dataset.values,dtype=torch.float).to(device)\n",
        "with torch.inference_mode():\n",
        "    y_pred_logits_test = model(tensor_test_dataset)\n",
        "    sigmoid = nn.Sigmoid()\n",
        "    y_pred_nn_test = torch.round(sigmoid(y_pred_logits_test))"
      ],
      "metadata": {
        "id": "-051e8AIIcgA"
      },
      "execution_count": null,
      "outputs": []
    },
    {
      "cell_type": "code",
      "source": [
        "y_pred_nn_test"
      ],
      "metadata": {
        "id": "qmuQg_e5JJ4N"
      },
      "execution_count": null,
      "outputs": []
    },
    {
      "cell_type": "code",
      "source": [
        "test_passenger_id['Transported'] = y_pred_nn_test"
      ],
      "metadata": {
        "id": "Kj7puRG1JqBf"
      },
      "execution_count": null,
      "outputs": []
    },
    {
      "cell_type": "code",
      "source": [
        "test_passenger_id['Transported'] = test_passenger_id['Transported'].apply(lambda x:True if x == 1 else False)"
      ],
      "metadata": {
        "id": "qQhvFL9KT3U1"
      },
      "execution_count": null,
      "outputs": []
    },
    {
      "cell_type": "code",
      "source": [
        "test_passenger_id.to_csv('NEUREL_NETWORK_PREDICTION.csv',index=False)"
      ],
      "metadata": {
        "id": "k8LAAC6LRnbv"
      },
      "execution_count": null,
      "outputs": []
    },
    {
      "cell_type": "markdown",
      "source": [
        "# TRAINING THE MODELS ON WHOLE DATASET"
      ],
      "metadata": {
        "id": "hi2dwwEJRoY_"
      }
    },
    {
      "cell_type": "code",
      "source": [
        "model2 = classification_model()"
      ],
      "metadata": {
        "id": "0_U7tufrVMsW"
      },
      "execution_count": null,
      "outputs": []
    },
    {
      "cell_type": "code",
      "source": [
        "loss1 = nn.BCEWithLogitsLoss()\n",
        "\n",
        "optimizer1 = torch.optim.Adam(model2.parameters(), lr=0.1)"
      ],
      "metadata": {
        "id": "J7F3BJM9VUu3"
      },
      "execution_count": null,
      "outputs": []
    },
    {
      "cell_type": "code",
      "execution_count": null,
      "metadata": {
        "id": "ooBHZHcOUqDE"
      },
      "outputs": [],
      "source": [
        "epochs = 300\n",
        "\n",
        "training_loss = []\n",
        "testing_loss = []\n",
        "epoch_list = []\n",
        "\n",
        "torch_training_dataset = torch.tensor(training_dataframe.values,dtype=torch.float)\n",
        "torch_target_variable = torch.tensor(target_feature.values,dtype=torch.float)\n",
        "\n",
        "\n",
        "for epoch in range(epochs):\n",
        "\n",
        "    # TRAINING THE MODE\n",
        "    model2.train()\n",
        "\n",
        "    # FORWARD PROPAGATION\n",
        "    y_train_pred = model2(torch_training_dataset)\n",
        "    train_loss = loss1(y_train_pred,torch_target_variable)\n",
        "\n",
        "    # OPTIMIZER ZERO GRAD\n",
        "    optimizer1.zero_grad()\n",
        "\n",
        "    # BACK PROPOGATION\n",
        "    train_loss.backward()\n",
        "\n",
        "    # GRADIENT DESCENT\n",
        "    optimizer1.step()\n",
        "\n",
        "    # EVALUATING THE MODEL\n",
        "    # model.eval()\n",
        "    # with torch.inference_mode():\n",
        "    #     y_test_pred = model(X_test)\n",
        "    #     test_loss = loss(y_test_pred,y_test)\n",
        "\n",
        "    #     if epoch%100 == 0:\n",
        "    #         training_loss.append(train_loss)\n",
        "    #         testing_loss.append(test_loss)\n",
        "    #         print(f\"Epoch is {epoch}:The training loss is {train_loss} and the test loss is {test_loss}\")"
      ]
    },
    {
      "cell_type": "code",
      "source": [
        "# MODEL PREDICTION\n",
        "tensor_test_dataset = torch.tensor(new_test_dataset.values,dtype=torch.float).to(device)\n",
        "with torch.inference_mode():\n",
        "    y_pred_logits_test = model2(tensor_test_dataset)\n",
        "    sigmoid = nn.Sigmoid()\n",
        "    y_pred_nn_test = torch.round(sigmoid(y_pred_logits_test))"
      ],
      "metadata": {
        "id": "eYUjyCitV8uE"
      },
      "execution_count": null,
      "outputs": []
    },
    {
      "cell_type": "code",
      "source": [
        "test_passenger_id['Transported'] = y_pred_nn_test"
      ],
      "metadata": {
        "id": "VWJagFFZWHg2"
      },
      "execution_count": null,
      "outputs": []
    },
    {
      "cell_type": "code",
      "source": [
        "test_passenger_id['Transported'] = test_passenger_id['Transported'].apply(lambda x:True if x == 1 else False)"
      ],
      "metadata": {
        "id": "1oS_2hS2WIDj"
      },
      "execution_count": null,
      "outputs": []
    },
    {
      "cell_type": "code",
      "source": [
        "test_passenger_id.to_csv('NEUREL_NETWORK_PREDICTION.csv',index=False)"
      ],
      "metadata": {
        "id": "X1hy6-eQWNjm"
      },
      "execution_count": null,
      "outputs": []
    },
    {
      "cell_type": "code",
      "source": [],
      "metadata": {
        "id": "JVmav0X_WU84"
      },
      "execution_count": null,
      "outputs": []
    }
  ],
  "metadata": {
    "colab": {
      "provenance": [],
      "authorship_tag": "ABX9TyPqHcAMvt8ZGVAlvSdl26IZ",
      "include_colab_link": true
    },
    "kernelspec": {
      "display_name": "Python 3",
      "name": "python3"
    },
    "language_info": {
      "name": "python"
    }
  },
  "nbformat": 4,
  "nbformat_minor": 0
}